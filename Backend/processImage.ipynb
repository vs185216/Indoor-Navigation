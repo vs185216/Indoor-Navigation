{
 "cells": [
  {
   "cell_type": "code",
   "execution_count": 15,
   "source": [
    "import cv2 as cv\n",
    "import numpy as np\n",
    "import matplotlib.path as mplpath"
   ],
   "outputs": [],
   "metadata": {}
  },
  {
   "cell_type": "code",
   "execution_count": 16,
   "source": [
    "def getCannyEdge(image):\n",
    "    gray = cv.cvtColor(image, cv.COLOR_BGR2GRAY)\n",
    "    # cv.imwrite('./Outputs/gray.png',gray)\n",
    "    # gray = cv.GaussianBlur(gray,(5,5),0)\n",
    "    filter = np.array([[-1, -1, -1], [-1, 9, -1], [-1, -1, -1]])\n",
    "    filtered=cv.filter2D(gray,-1,filter)\n",
    "    # cv.imwrite('./Outputs/filtered.png',filtered)\n",
    "\n",
    "    thresh = cv.threshold(filtered, 128, 255, cv.THRESH_BINARY | cv.THRESH_OTSU)[1]\n",
    "    # cv.imwrite('./Outputs/thresh.png',thresh)\n",
    "\n",
    "    Canny = np.zeros(thresh.shape, dtype=np.uint8)\n",
    "    contours, hierarchy  = cv.findContours(thresh, cv.RETR_TREE, cv.CHAIN_APPROX_SIMPLE)\n",
    "    i = 0\n",
    "    for c in contours:\n",
    "        perimeter = cv.arcLength(c, True)\n",
    "        storeArea = cv.approxPolyDP(c, 0.02 * perimeter, True)\n",
    "        if(4 <= len(storeArea) <=6):\n",
    "            [Next, Previous, First_Child, Parent] = hierarchy[0][i]\n",
    "            if(First_Child != -1 and Parent != -1):\n",
    "                cv.drawContours(Canny, [c], -1, (255,255,255), 2)\n",
    "        i += 1\n",
    "    Canny = cv.bitwise_not(Canny)\n",
    "\n",
    "    return Canny"
   ],
   "outputs": [],
   "metadata": {}
  },
  {
   "cell_type": "code",
   "execution_count": 17,
   "source": [
    "def getStoreBoundries(img):\n",
    "    res_img = np.zeros((img.shape[0], img.shape[1]), dtype=np.uint8)\n",
    "    # Rcontours, hierarchy  = cv.findContours(img, cv.RETR_EXTERNAL, cv.CHAIN_APPROX_SIMPLE)\n",
    "    contours, hierarchy  = cv.findContours(img, cv.RETR_TREE, cv.CHAIN_APPROX_SIMPLE)\n",
    "    \n",
    "    for c in contours:\n",
    "        if(4 <= len(c) <= 8):\n",
    "            perimeter = cv.arcLength(c, True)\n",
    "            storeArea = cv.approxPolyDP(c, 0.02 * perimeter, True)\n",
    "            if(4 <= len(storeArea) <= 6 ):\n",
    "                cv.drawContours(res_img, [c], -1, (255,255,255), 2)\n",
    "                # print(j,len(storeArea))\n",
    "                # print(storeArea)\n",
    "    res_img = cv.bitwise_not(res_img)\n",
    "    return res_img"
   ],
   "outputs": [],
   "metadata": {}
  },
  {
   "cell_type": "code",
   "execution_count": 18,
   "source": [
    "def findstore(vertices,point):\n",
    "    polygon = mplpath.Path(vertices)\n",
    "    return polygon.contains_point(point)"
   ],
   "outputs": [],
   "metadata": {}
  },
  {
   "cell_type": "code",
   "execution_count": 19,
   "source": [
    "# image = cv.imread('./Blueprints/i1.png')\n",
    "image = cv.imread('./Blueprints/i3.jpg')\n",
    "CannyEdged = getCannyEdge(image)\n",
    "cv.imwrite('./Outputs/CannyEdged.png',CannyEdged)\n",
    "storeImage = getStoreBoundries(CannyEdged)\n",
    "cv.imwrite('./Outputs/storeImage.png',storeImage)"
   ],
   "outputs": [
    {
     "output_type": "execute_result",
     "data": {
      "text/plain": [
       "True"
      ]
     },
     "metadata": {},
     "execution_count": 19
    }
   ],
   "metadata": {
    "tags": []
   }
  }
 ],
 "metadata": {
  "kernelspec": {
   "name": "python3",
   "display_name": "Python 3.9.6 64-bit"
  },
  "language_info": {
   "codemirror_mode": {
    "name": "ipython",
    "version": 3
   },
   "file_extension": ".py",
   "mimetype": "text/x-python",
   "name": "python",
   "nbconvert_exporter": "python",
   "pygments_lexer": "ipython3",
   "version": "3.9.6"
  },
  "interpreter": {
   "hash": "949777d72b0d2535278d3dc13498b2535136f6dfe0678499012e853ee9abcab1"
  }
 },
 "nbformat": 4,
 "nbformat_minor": 1
}