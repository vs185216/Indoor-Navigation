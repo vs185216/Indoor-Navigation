{
 "cells": [
  {
   "cell_type": "code",
   "execution_count": 1,
   "source": [
    "import json\n",
    "import networkx as nx\n",
    "import numpy as np\n",
    "import math\n",
    "from numpy.linalg import norm"
   ],
   "outputs": [],
   "metadata": {}
  },
  {
   "cell_type": "code",
   "execution_count": 2,
   "source": [
    "def readJson(path,nodeType):\n",
    "    G = []\n",
    "    nodes = []\n",
    "    f = open(path)\n",
    "    graph = json.load(f, parse_int=str)\n",
    "    count = 1\n",
    "    for node in graph['storeNodes']:\n",
    "        nodeId = nodeType + str(count)\n",
    "        nodePos = np.array([int(node['x']),int(node['y'])])\n",
    "        G.append([nodeId,nodePos])\n",
    "        nodes.append([nodeId,node['storeName']])\n",
    "        count += 1\n",
    "    return (G,nodes)"
   ],
   "outputs": [],
   "metadata": {}
  },
  {
   "cell_type": "code",
   "execution_count": 3,
   "source": [
    "sGraph, sNodes = readJson(\"./Jsons/S1.json\",\"S\")\n",
    "print('sGraph')\n",
    "print(sNodes)\n",
    "cGraph, cNodes = readJson(\"./Jsons/C1.json\",\"C\")\n",
    "print('cGraph')\n",
    "print(cNodes)"
   ],
   "outputs": [
    {
     "output_type": "stream",
     "name": "stdout",
     "text": [
      "sGraph\n",
      "[['S1', '1'], ['S2', '2'], ['S3', '3'], ['S4', '4'], ['S5', '5'], ['S6', '6'], ['S7', '7'], ['S8', '8'], ['S9', '9'], ['S10', '10'], ['S11', '11'], ['S12', '12'], ['S13', '13'], ['S14', '14'], ['S15', '15'], ['S16', '16']]\n",
      "cGraph\n",
      "[['C1', 'C1'], ['C2', 'C2'], ['C3', 'C3'], ['C4', 'C4']]\n"
     ]
    }
   ],
   "metadata": {}
  },
  {
   "cell_type": "code",
   "execution_count": 4,
   "source": [
    "def alignNodes(G):\n",
    "    i = 0\n",
    "    for nodeId_i, pos_i in G:\n",
    "        i += 1\n",
    "        for nodeId_j, pos_j in G[i:]:\n",
    "            for axis in range(2):\n",
    "                if(1 <= abs(pos_i[axis] - pos_j[axis]) < 2):\n",
    "                    pos_i[axis] = pos_j[axis] = (pos_i[axis] + pos_j[axis])/2\n",
    "    \n",
    "    i = 0\n",
    "    for nodeId_i, pos_i in G:\n",
    "        i += 1\n",
    "        for nodeId_j, pos_j in G[i:]:\n",
    "            for axis in range(2):\n",
    "                if(1 <= abs(pos_i[axis] - pos_j[axis]) < 2):\n",
    "                    pos_i[axis] = pos_j[axis] = int((pos_i[axis] + pos_j[axis])//2)\n",
    "    return G"
   ],
   "outputs": [],
   "metadata": {}
  },
  {
   "cell_type": "code",
   "execution_count": 5,
   "source": [
    "storeNodes = alignNodes(sGraph)\n",
    "print(\"storeNodes\")\n",
    "print(storeNodes)\n",
    "corridorNodes = alignNodes(cGraph)\n",
    "print(\"corridorNodes\")\n",
    "print(corridorNodes)"
   ],
   "outputs": [
    {
     "output_type": "stream",
     "name": "stdout",
     "text": [
      "storeNodes\n",
      "[['S1', array([7, 4])], ['S2', array([12,  4])], ['S3', array([17,  4])], ['S4', array([36,  8])], ['S5', array([36, 15])], ['S6', array([33, 25])], ['S7', array([19, 25])], ['S8', array([10, 25])], ['S9', array([ 3, 22])], ['S10', array([ 3, 15])], ['S11', array([3, 8])], ['S12', array([12, 15])], ['S13', array([19, 13])], ['S14', array([27, 13])], ['S15', array([27, 17])], ['S16', array([19, 17])]]\n",
      "corridorNodes\n",
      "[['C1', array([19,  7])], ['C2', array([ 7, 13])], ['C3', array([19, 21])], ['C4', array([32, 13])]]\n"
     ]
    }
   ],
   "metadata": {}
  },
  {
   "cell_type": "code",
   "execution_count": 6,
   "source": [
    "def getCorridors(G):\n",
    "    G = sorted(G,key=lambda x: x[1][0])\n",
    "    Corners = []\n",
    "    i = 0\n",
    "    for nodeId_i, pos_i in G:\n",
    "        i += 1\n",
    "        for nodeId_j, pos_j in G[i:]:\n",
    "            if(not(pos_i[0] == pos_j[0] or pos_i[1] == pos_j[1])):\n",
    "                if(not([pos_i[0],pos_j[1]] in Corners)):\n",
    "                    Corners.append([pos_i[0],pos_j[1]])\n",
    "                else: \n",
    "                    Corners.pop(Corners.index([pos_i[0],pos_j[1]]))\n",
    "\n",
    "                if(not([pos_j[0],pos_i[1]] in Corners)):\n",
    "                    Corners.append([pos_j[0],pos_i[1]])\n",
    "                else:\n",
    "                    Corners.pop(Corners.index([pos_j[0],pos_i[1]]))\n",
    "    corridorCorners = []\n",
    "    count = 1\n",
    "    for node in Corners:\n",
    "        cId = \"C\" + str(count)\n",
    "        corridorCorners.append([cId,np.array(node)])\n",
    "        count += 1\n",
    "\n",
    "    Corridors = []\n",
    "    for i in range(len(Corners)):\n",
    "            for j in range(i+1,len(Corners)):\n",
    "                if(Corners[i][0]==Corners[j][0]):\n",
    "                    Corridors.append([0,np.array(Corners[i]),np.array(Corners[j])])\n",
    "                if(Corners[i][1]==Corners[j][1]):\n",
    "                    Corridors.append([1,np.array(Corners[i]),np.array(Corners[j])])\n",
    "    return corridorCorners, Corridors"
   ],
   "outputs": [],
   "metadata": {}
  },
  {
   "cell_type": "code",
   "execution_count": 7,
   "source": [
    "corridorCorners, corridors= getCorridors(corridorNodes)\n",
    "print('corridorCorners')\n",
    "print(corridorCorners)\n",
    "print('corridors')\n",
    "print(corridors)"
   ],
   "outputs": [
    {
     "output_type": "stream",
     "name": "stdout",
     "text": [
      "corridorCorners\n",
      "[['C1', array([7, 7])], ['C2', array([ 7, 21])], ['C3', array([32,  7])], ['C4', array([32, 21])]]\n",
      "corridors\n",
      "[[0, array([7, 7]), array([ 7, 21])], [1, array([7, 7]), array([32,  7])], [1, array([ 7, 21]), array([32, 21])], [0, array([32,  7]), array([32, 21])]]\n"
     ]
    }
   ],
   "metadata": {}
  },
  {
   "cell_type": "code",
   "execution_count": 8,
   "source": [
    "# d = norm(np.cross(p2-p1, p1-p3))/norm(p2-p1)\n",
    "def getCorridorNodes(storeNodes,Corridors,CorridorNodes):\n",
    "    i = 0 \n",
    "    for sId,storeNode in storeNodes:\n",
    "        i+=1\n",
    "        distance = []\n",
    "        for [axis,p1,p2] in Corridors:\n",
    "            d = norm(np.cross(p2-p1, p1-storeNode))/norm(p2-p1)\n",
    "            if(d == 0):\n",
    "                if(norm(p1-storeNode)>norm(p2-storeNode)):\n",
    "                    distance.append([axis,p2.copy(),p1.copy(),p2.copy(),d])\n",
    "                else:\n",
    "                    distance.append([axis,p1.copy(),p1.copy(),p2.copy(),d])\n",
    "            else:\n",
    "                newNode = storeNode.copy()\n",
    "                newNode[axis] = p1[axis]\n",
    "                distance.append([axis,newNode.copy(),p1.copy(),p2.copy(),d])\n",
    "       \n",
    "        distance = sorted(distance, key= lambda d:d[-1])\n",
    "        newNode = []\n",
    "        flag = 0\n",
    "        for newNodes in distance:\n",
    "            if(validateNewNode(newNodes)):\n",
    "                newNode = newNodes[1].copy()\n",
    "                flag = 1\n",
    "                break\n",
    "        if(flag):\n",
    "            for cId ,cnode in CorridorNodes:\n",
    "                if(np.array_equal(newNode,cnode)):\n",
    "                    flag = 0\n",
    "                    break   \n",
    "            if(flag):\n",
    "                cId = \"C\" + str(len(CorridorNodes) + 1)\n",
    "                CorridorNodes.append([cId,newNode])\n",
    "    return CorridorNodes    "
   ],
   "outputs": [],
   "metadata": {}
  },
  {
   "cell_type": "code",
   "execution_count": 9,
   "source": [
    "def validateNewNode(newNode):\n",
    "    axis,p3,p1,p2,d = newNode\n",
    "    if(d == 0):\n",
    "        return True\n",
    "\n",
    "    if(axis):\n",
    "        x1 = int(min(p1[0],p2[0]))\n",
    "        x2 = int(max(p1[0],p2[0])+1)\n",
    "        x3 = int(p3[0])\n",
    "        if(x3 in range(x1,x2)):\n",
    "            return True\n",
    "            \n",
    "    else:\n",
    "        y1 = int(min(p1[1],p2[1]))\n",
    "        y2 = int(max(p1[1],p2[1])+1)\n",
    "        y3 = int(p3[1])\n",
    "        if(y3 in range(y1,y2)):\n",
    "            return True\n",
    "    \n",
    "    return False"
   ],
   "outputs": [],
   "metadata": {}
  },
  {
   "cell_type": "code",
   "execution_count": 10,
   "source": [
    "def intermediateCNode(corridors,corridorNodes):\n",
    "    for axis, p1, p2 in corridors:\n",
    "        newNode = p1.copy()\n",
    "        if(axis):\n",
    "            x1 = int(min(p1[0],p2[0]))\n",
    "            x2 = int(max(p1[0],p2[0]))\n",
    "            for x3 in range(x1+1,x2):\n",
    "                newNode[0] = x3\n",
    "                cId = \"C\"+ str(len(corridorNodes)+1)\n",
    "                corridorNodes.append([cId,newNode.copy()])\n",
    "        else:\n",
    "            y1 = int(min(p1[1],p2[1]))\n",
    "            y2 = int(max(p1[1],p2[1]))\n",
    "            for y3 in range(y1+1,y2):\n",
    "                newNode[1] = y3\n",
    "                cId = \"C\"+ str(len(corridorNodes)+1)\n",
    "                corridorNodes.append([cId,newNode.copy()])\n",
    "    return corridorNodes"
   ],
   "outputs": [],
   "metadata": {}
  },
  {
   "cell_type": "code",
   "execution_count": 11,
   "source": [
    "corridorNodes = corridorCorners.copy()\n",
    "corridorNodes = intermediateCNode(corridors,corridorNodes)\n",
    "corridorNodes = getCorridorNodes(storeNodes,corridors,corridorNodes)\n",
    "# for cnode in corridorNodes:\n",
    "#     print(cnode)"
   ],
   "outputs": [],
   "metadata": {}
  },
  {
   "cell_type": "code",
   "execution_count": 12,
   "source": [
    "def connectSNodes(corridorNodes,storeNodes):\n",
    "    edges = []\n",
    "    for sId, p1 in storeNodes:\n",
    "        distance = [9999]\n",
    "        for cId, p2 in corridorNodes:\n",
    "            if((p1 == p2).any()):\n",
    "                d = int(norm(p2-p1))\n",
    "                if(distance[-1]>d):\n",
    "                    distance = [sId,cId,p1,p2,d]\n",
    "                # print(distance)\n",
    "        if(len(distance)==1):\n",
    "            for cId, p2 in corridorNodes:\n",
    "                d = int(norm(p2-p1))\n",
    "                if(distance[-1]>d):\n",
    "                    distance = [sId,cId,p1,p2,d]\n",
    "        # if(len(distance)>1):    \n",
    "        edges.append(distance)\n",
    "    return edges"
   ],
   "outputs": [],
   "metadata": {}
  },
  {
   "cell_type": "code",
   "execution_count": 13,
   "source": [
    "sEdges = connectSNodes(corridorNodes,storeNodes)\n",
    "# for edge in sEdges:\n",
    "#     print(edge)"
   ],
   "outputs": [],
   "metadata": {}
  },
  {
   "cell_type": "code",
   "execution_count": 14,
   "source": [
    "def connectCNodes(corridorNodes):\n",
    "    edges = []\n",
    "    i = 0\n",
    "    for cId_i, p1 in corridorNodes:\n",
    "        # i += 1\n",
    "        distance = []\n",
    "        for cId_j, p2 in corridorNodes[i:]:\n",
    "            if((p1 == p2).any()):\n",
    "                d = int(norm(p2-p1))\n",
    "                distance.append([cId_i,cId_j,p1,p2,d])\n",
    "        distance = sorted(distance,key=lambda x: x[-1])\n",
    "        try:\n",
    "            edges.append(distance[1])\n",
    "            edges.append(distance[2])\n",
    "        except:\n",
    "            # edges.append(distance[0])\n",
    "            pass\n",
    "    return edges"
   ],
   "outputs": [],
   "metadata": {}
  },
  {
   "cell_type": "code",
   "execution_count": 15,
   "source": [
    "cEdges = connectCNodes(corridorNodes)\n",
    "# for edge in cEdges:\n",
    "#     print(edge)"
   ],
   "outputs": [],
   "metadata": {}
  },
  {
   "cell_type": "code",
   "execution_count": 16,
   "source": [
    "print('allNodes')\n",
    "allNodes = storeNodes.copy()\n",
    "allNodes += corridorNodes\n",
    "# for node in allNodes:\n",
    "#     print(node)\n",
    "\n",
    "print('allEdges')\n",
    "allEdges = sEdges.copy()\n",
    "allEdges += cEdges\n",
    "# for edge in allEdges:\n",
    "#     print(edge)"
   ],
   "outputs": [
    {
     "output_type": "stream",
     "name": "stdout",
     "text": [
      "allNodes\n",
      "allEdges\n"
     ]
    }
   ],
   "metadata": {}
  },
  {
   "cell_type": "code",
   "execution_count": 17,
   "source": [
    "def createGraph(nodes,edges):\n",
    "    G = nx.Graph()\n",
    "    for [id, pos] in nodes:\n",
    "        G.add_node(id,\n",
    "                   storeName = id,\n",
    "                   position = (pos[0],-pos[1]))\n",
    "    \n",
    "    for [id1, id2, p1, p2, d]  in edges:\n",
    "        G.add_edge(id1,id2,weight = d)\n",
    "    return G\n",
    "def showGraph(G):\n",
    "    pos = {}\n",
    "    for node in G.nodes(data = True):\n",
    "        # print(node)\n",
    "        pos[node[0]] = [int(p) for p in node[1]['position'][0:2]]\n",
    "    nx.draw_networkx(G, pos = pos)"
   ],
   "outputs": [],
   "metadata": {}
  },
  {
   "cell_type": "code",
   "execution_count": 18,
   "source": [
    "# G = createGraph(storeNodes,sEdges)\n",
    "# showGraph(G)"
   ],
   "outputs": [],
   "metadata": {}
  },
  {
   "cell_type": "code",
   "execution_count": 19,
   "source": [
    "G = createGraph(corridorNodes,cEdges)\r\n",
    "showGraph(G)\r\n"
   ],
   "outputs": [],
   "metadata": {}
  },
  {
   "cell_type": "code",
   "execution_count": null,
   "source": [
    "G = createGraph(allNodes,allEdges)\r\n",
    "showGraph(G)\r\n",
    "nodes = G.nodes(data=True)\r\n",
    "nodes['S16']"
   ],
   "outputs": [
    {
     "output_type": "error",
     "ename": "KeyError",
     "evalue": "'S17'",
     "traceback": [
      "\u001b[0;31m---------------------------------------------------------------------------\u001b[0m",
      "\u001b[0;31mKeyError\u001b[0m                                  Traceback (most recent call last)",
      "\u001b[0;32m/var/folders/z6/2xxpbyps4cl8rt2r5rfylxd80000gn/T/ipykernel_4144/4242738918.py\u001b[0m in \u001b[0;36m<module>\u001b[0;34m\u001b[0m\n\u001b[1;32m      2\u001b[0m \u001b[0mshowGraph\u001b[0m\u001b[0;34m(\u001b[0m\u001b[0mG\u001b[0m\u001b[0;34m)\u001b[0m\u001b[0;34m\u001b[0m\u001b[0;34m\u001b[0m\u001b[0m\n\u001b[1;32m      3\u001b[0m \u001b[0mnodes\u001b[0m \u001b[0;34m=\u001b[0m \u001b[0mG\u001b[0m\u001b[0;34m.\u001b[0m\u001b[0mnodes\u001b[0m\u001b[0;34m(\u001b[0m\u001b[0mdata\u001b[0m\u001b[0;34m=\u001b[0m\u001b[0;32mTrue\u001b[0m\u001b[0;34m)\u001b[0m\u001b[0;34m\u001b[0m\u001b[0;34m\u001b[0m\u001b[0m\n\u001b[0;32m----> 4\u001b[0;31m \u001b[0mnodes\u001b[0m\u001b[0;34m[\u001b[0m\u001b[0;34m'S17'\u001b[0m\u001b[0;34m]\u001b[0m\u001b[0;34m\u001b[0m\u001b[0;34m\u001b[0m\u001b[0m\n\u001b[0m",
      "\u001b[0;32m/Library/Frameworks/Python.framework/Versions/3.9/lib/python3.9/site-packages/networkx/classes/reportviews.py\u001b[0m in \u001b[0;36m__getitem__\u001b[0;34m(self, n)\u001b[0m\n\u001b[1;32m    285\u001b[0m \u001b[0;34m\u001b[0m\u001b[0m\n\u001b[1;32m    286\u001b[0m     \u001b[0;32mdef\u001b[0m \u001b[0m__getitem__\u001b[0m\u001b[0;34m(\u001b[0m\u001b[0mself\u001b[0m\u001b[0;34m,\u001b[0m \u001b[0mn\u001b[0m\u001b[0;34m)\u001b[0m\u001b[0;34m:\u001b[0m\u001b[0;34m\u001b[0m\u001b[0;34m\u001b[0m\u001b[0m\n\u001b[0;32m--> 287\u001b[0;31m         \u001b[0mddict\u001b[0m \u001b[0;34m=\u001b[0m \u001b[0mself\u001b[0m\u001b[0;34m.\u001b[0m\u001b[0m_nodes\u001b[0m\u001b[0;34m[\u001b[0m\u001b[0mn\u001b[0m\u001b[0;34m]\u001b[0m\u001b[0;34m\u001b[0m\u001b[0;34m\u001b[0m\u001b[0m\n\u001b[0m\u001b[1;32m    288\u001b[0m         \u001b[0mdata\u001b[0m \u001b[0;34m=\u001b[0m \u001b[0mself\u001b[0m\u001b[0;34m.\u001b[0m\u001b[0m_data\u001b[0m\u001b[0;34m\u001b[0m\u001b[0;34m\u001b[0m\u001b[0m\n\u001b[1;32m    289\u001b[0m         \u001b[0;32mif\u001b[0m \u001b[0mdata\u001b[0m \u001b[0;32mis\u001b[0m \u001b[0;32mFalse\u001b[0m \u001b[0;32mor\u001b[0m \u001b[0mdata\u001b[0m \u001b[0;32mis\u001b[0m \u001b[0;32mTrue\u001b[0m\u001b[0;34m:\u001b[0m\u001b[0;34m\u001b[0m\u001b[0;34m\u001b[0m\u001b[0m\n",
      "\u001b[0;31mKeyError\u001b[0m: 'S17'"
     ]
    },
    {
     "output_type": "display_data",
     "data": {
      "text/plain": [
       "<Figure size 432x288 with 1 Axes>"
      ],
      "image/png": "[encoded data removed]"
     },
     "metadata": {}
    }
   ],
   "metadata": {}
  },
  {
   "cell_type": "code",
   "execution_count": null,
   "source": [
    "def computeShortestPath(G, nodes):\r\n",
    "    path = nx.bidirectional_dijkstra(G, nodes[0], nodes[1],weight=\"weight\")\r\n",
    "    return path\r\n",
    "print(computeShortestPath(G,('S1','S8')))"
   ],
   "outputs": [
    {
     "output_type": "stream",
     "name": "stdout",
     "text": [
      "(24, ['S1', 'C1', 'C5', 'C6', 'C7', 'C8', 'C9', 'C10', 'C11', 'C12', 'C13', 'C14', 'C15', 'C16', 'C17', 'C2', 'C42', 'C43', 'C44', 'S8'])\n"
     ]
    }
   ],
   "metadata": {}
  }
 ],
 "metadata": {
  "kernelspec": {
   "name": "python3",
   "display_name": "Python 3.9.6 64-bit"
  },
  "language_info": {
   "codemirror_mode": {
    "name": "ipython",
    "version": 3
   },
   "file_extension": ".py",
   "mimetype": "text/x-python",
   "name": "python",
   "nbconvert_exporter": "python",
   "pygments_lexer": "ipython3",
   "version": "3.9.6"
  },
  "interpreter": {
   "hash": "6cfb479d296579085f6091e5a7727a11121cc3d75e2d1140668cd117d8fd9ef1"
  }
 },
 "nbformat": 4,
 "nbformat_minor": 1
}